{
 "cells": [
  {
   "cell_type": "markdown",
   "id": "1270c740",
   "metadata": {},
   "source": [
    "|Attribute name||Description                     |           Data type                  |\n",
    "|--------------|---------------------------------|--------------------------------------|\n",
    "|Age           | Describe the age of patient     |                     Integer          |\n",
    "|Gender        |   Describe the gender of patient|                    Binary            |\n",
    "|BMI           | body mass index                 |                     Integer          |\n",
    "|Fever         | Describe the patients condition |                      Binary          |\n",
    "Nausea.Vomting | Describe the patients condition |                  Binary              |\n",
    "|Headache      | Describe the patients condition |                       Binary         |\n",
    "|Diarrhea      | Describe the patients condition |                    Binary            |\n",
    "|Jaundice      | Describe the patients condition |                       Binary         |\n",
    "|Epigastric.pain| Describe the patients condition|                   Binary             |  \n",
    "|ALT.36         | Describe the patients condition|                   Binary             |    \n",
    "|ALT.48         | Describe the patients condition|                  Binary              |\n",
    "|ALT.after.24.w | Describe the patients condition|                    Binary            |\n",
    "|RNA.Base       | Describe the patients condition|                      Binary          |\n",
    "|RNA 4          | Describe the patients condition|                      Binary          | \n",
    "|RNA 12         | Describe the patients condition|                        Binary        |\n",
    "|RNA EOT        | Describe the patients condition|                     Binary           |\n",
    "|RNA EF         | Describe the patients condition|                        Binary        |\n",
    "|Baseline.histological.Grading|Describe the patients condition|            Binary       |\n",
    "|Baselinehistological.staging| Describe the patients condition|              Binary     |\n",
    "|WBC|  white blood cells                          |                            Integer  |\n",
    "|RBC| blood cells                                 |                              Integer|\n",
    "|HGB|  aspartate transaminase ratio|                                             Integer|\n",
    "|Plat|  alanine transaminase ratio 1 week|                                       Integer|\n",
    "|AST 1|  alanine transaminase ratio 1 week|                                      Integer|\n",
    "|ALT 1| alanine transaminase ratio 1 week|                                      Integer |\n",
    "|ALT4| alanine transaminase ratio 4 week|                                      Integer  |\n",
    "|ALT 12| alanine transaminase ratio 12 week|                                     Integer|\n",
    "|ALT 24| after 24 warnings alanine transaminase ratio 24 weeks|                  Integer|\n",
    "|ALT 36| alanine transaminase ratio 36 week|                                     Integer|\n",
    "|ALT 48| alanine transaminase ratio 48 weeks|                                    Integer|\n",
    "|ALT after 24w|  alanine transaminase ratio 24 week|                             Integer|\n",
    "|RNA Base|Describe the patients condition|                                       Integer|\n",
    "|RNA 4|Describe the patients condition|                                          Integer|\n",
    "|RNA 12|Describe the patients condition|                                         Integer|\n",
    "RNA EOT| RNA end-of-treatment|                                                   Integer|\n",
    "|RNA EF|RNA Elongation Factor |Baseline histological Grading|                Categorical|\n",
    "|Baselinehistological staging |Baseline histological staging|                Categorical|"
   ]
  },
  {
   "cell_type": "code",
   "execution_count": null,
   "id": "5862f2f2",
   "metadata": {},
   "outputs": [],
   "source": [
    "# "
   ]
  },
  {
   "cell_type": "markdown",
   "id": "cb979175",
   "metadata": {},
   "source": []
  },
  {
   "cell_type": "code",
   "execution_count": null,
   "id": "94290566",
   "metadata": {},
   "outputs": [],
   "source": []
  },
  {
   "cell_type": "code",
   "execution_count": null,
   "id": "e029e031",
   "metadata": {},
   "outputs": [],
   "source": []
  },
  {
   "cell_type": "code",
   "execution_count": null,
   "id": "be93e5d5",
   "metadata": {},
   "outputs": [],
   "source": []
  }
 ],
 "metadata": {
  "kernelspec": {
   "display_name": "R",
   "language": "R",
   "name": "ir"
  },
  "language_info": {
   "codemirror_mode": "r",
   "file_extension": ".r",
   "mimetype": "text/x-r-source",
   "name": "R",
   "pygments_lexer": "r",
   "version": "3.6.1"
  }
 },
 "nbformat": 4,
 "nbformat_minor": 5
}
